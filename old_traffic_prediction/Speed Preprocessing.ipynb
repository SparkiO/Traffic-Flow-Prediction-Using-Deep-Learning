{
 "cells": [
  {
   "cell_type": "code",
   "execution_count": 105,
   "metadata": {},
   "outputs": [],
   "source": [
    "import pandas as pd\n",
    "import numpy as np"
   ]
  },
  {
   "cell_type": "code",
   "execution_count": 115,
   "metadata": {},
   "outputs": [],
   "source": [
    "inputfile = open('traffic_flow.csv', 'r')\n",
    "outputfile = open('traffic_flow1.csv', 'w')\n",
    "for line in inputfile:\n",
    "    line = line.replace('[', '')\n",
    "    line = line.replace(']', '')\n",
    "    line = line.replace(\"'\", '')\n",
    "    line = line.replace(\" \", '')\n",
    "    outputfile.write(line)\n",
    "\n",
    "inputfile.close()\n",
    "outputfile.close()\n",
    "\n",
    "# csv file name\n",
    "filename = \"traffic_flow1.csv\"\n",
    "\n",
    "# initializing the titles and rows list\n",
    "fields = []\n",
    "rows = []\n",
    "# reading csv file\n",
    "\n",
    "with open(filename, 'r') as csvfile:\n",
    "    # creating a csv reader object\n",
    "    csvreader = csv.reader(csvfile, delimiter=',')\n",
    "    # extracting field names through first row\n",
    "    fields = next(csvreader)\n",
    "\n",
    "    # extracting each data row one by one\n",
    "    for row in csvreader:\n",
    "        rows.append(row)\n",
    "\n",
    "speed_uncapped = []\n",
    "fields = fields[0].split(\",\")\n",
    "for i in range(len(rows)):\n",
    "    if rows[i][0][0] != \"2\" and rows[i][0].split(\",\")[0] != \"Street\":\n",
    "        speed_uncapped.append(float(rows[i][0].split(\",\")[4]))\n",
    "\n",
    "columns = int(len(speed_uncapped)/53)\n",
    "speed_uncapped = np.array(speed_uncapped)\n",
    "speed_array = speed_uncapped.reshape(columns, 53)\n",
    "speed_array_transpose = np.transpose(speed_array)"
   ]
  }
 ],
 "metadata": {
  "kernelspec": {
   "display_name": "Python 3",
   "language": "python",
   "name": "python3"
  },
  "language_info": {
   "codemirror_mode": {
    "name": "ipython",
    "version": 3
   },
   "file_extension": ".py",
   "mimetype": "text/x-python",
   "name": "python",
   "nbconvert_exporter": "python",
   "pygments_lexer": "ipython3",
   "version": "3.9.5"
  }
 },
 "nbformat": 4,
 "nbformat_minor": 4
}
