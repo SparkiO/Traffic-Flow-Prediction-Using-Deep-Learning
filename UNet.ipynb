{
 "cells": [
  {
   "cell_type": "code",
   "execution_count": 12,
   "metadata": {
    "id": "_Cg0gV6WwGbe"
   },
   "outputs": [],
   "source": [
    "from os import walk\n",
    "import h5py\n",
    "import numpy as np\n",
    "import sys\n",
    "import tensorflow as tf\n",
    "import matplotlib.pyplot as plt\n",
    "from tensorflow import keras\n",
    "import math\n",
    "from adabelief_tf import AdaBeliefOptimizer\n",
    "from tensorflow.keras.callbacks import ReduceLROnPlateau, ModelCheckpoint, EarlyStopping\n",
    "from os import walk\n",
    "from skimage.transform import resize\n",
    "from PIL import Image\n",
    "import cv2\n",
    "import functools"
   ]
  },
  {
   "cell_type": "code",
   "execution_count": 13,
   "metadata": {
    "id": "PN8J2rJTyd_D"
   },
   "outputs": [],
   "source": [
    "TRAIN_PATH = 'covid/' #might need to change here\n",
    "MODEL_SAVE_PATH = 'antwerp_full_data.h5'\n",
    "IMAGE_WIDTH = 436\n",
    "IMAGE_HEIGHT = 495\n",
    "\n",
    "SCALE = True\n",
    "IMAGE_WIDTH_SCALED = 200\n",
    "IMAGE_HEIGHT_SCALED = 200\n",
    "NUMBER_OF_CHANNELS = 2\n",
    "TIMESTEPS_X = 12\n",
    "TIMESTEPS_Y = 6\n",
    "\n",
    "BATCH_SIZE = 3\n",
    "\n",
    "X_Seq = TIMESTEPS_X * NUMBER_OF_CHANNELS\n",
    "Y_Seq = TIMESTEPS_Y * NUMBER_OF_CHANNELS"
   ]
  },
  {
   "cell_type": "code",
   "execution_count": 14,
   "metadata": {
    "id": "j8aVm-s1zI7N"
   },
   "outputs": [],
   "source": [
    "def get_filenames(path):\n",
    "    for (dirpath, dirnames, filenames) in walk(path):\n",
    "        return filenames\n",
    "    \n",
    "class generator:\n",
    "    def __call__(self, file):\n",
    "        with h5py.File(file, 'r') as hf:\n",
    "            #get the data\n",
    "            a_group_key = list(hf.keys())[0]\n",
    "            data = list(hf[a_group_key])\n",
    "\n",
    "            # transform to appropriate numpy array \n",
    "            data = data[0:]\n",
    "            data = np.stack(data, axis=0)\n",
    "\n",
    "            #preprocess the data here\n",
    "            x, y = data_preprocessing(data)\n",
    "            yield x, y"
   ]
  },
  {
   "cell_type": "code",
   "execution_count": 15,
   "metadata": {},
   "outputs": [],
   "source": [
    "def data_preprocessing(data):\n",
    "\n",
    "    #combine dimensions of 288 and 8 as in the CNN paper\n",
    "    def combine_dims(a, i=0, n=1):\n",
    "      \"\"\"\n",
    "      Combines dimensions of numpy array `a`, \n",
    "      starting at index `i`,\n",
    "      and combining `n` dimensions\n",
    "      \"\"\"\n",
    "      s = list(a.shape)\n",
    "      combined = functools.reduce(lambda x,y: x*y, s[i:i+n+1])\n",
    "      return np.reshape(a, s[:i] + [combined] + s[i+n+1:])\n",
    "\n",
    "    \n",
    "    #concatenate volume channels into one:\n",
    "    def scale_channels_and_size(data):\n",
    "        new_data = []\n",
    "        \n",
    "        for img in data:\n",
    "            img = cv2.resize(img, (IMAGE_HEIGHT_SCALED, IMAGE_WIDTH_SCALED), Image.ANTIALIAS)\n",
    "            speed_avg = (img[:, :, 0] + img[:, :, 2] + img[:, :, 4] + img[:, :, 6]) / 4.0\n",
    "            volume_avg = (img[:, :, 1] + img[:, :, 3] + img[:, :, 5] + img[:, :, 7]) / 4.0\n",
    "            new_data.append(np.array([speed_avg, volume_avg]))\n",
    "        return np.array(new_data)\n",
    "\n",
    "    \n",
    "\n",
    "    \n",
    "    #load the data and split it into 13:3 chunks\n",
    "    data = scale_channels_and_size(data)\n",
    "    data = combine_dims(data, 0) # combines dimension 0 and 1\n",
    "        \n",
    "    x = []\n",
    "    y = []\n",
    "    \n",
    "    for i in range(18):\n",
    "        start = np.random.randint(0, len(data)-(X_Seq+Y_Seq))\n",
    "        x.append(np.asarray(data[start:start+X_Seq]))\n",
    "        y.append(np.asarray(data[start+X_Seq:start+(X_Seq+Y_Seq)]))\n",
    "    \n",
    "    #divide the data by 255 and take square root\n",
    "    x = np.array(x)\n",
    "    y = np.array(y)\n",
    "    x = np.moveaxis(x, 1, -1)\n",
    "    y = np.moveaxis(y, 1, -1)\n",
    "    x = x / 255.\n",
    "    x = np.sqrt(x)\n",
    "    y = y / 255.\n",
    "    y = np.sqrt(y)\n",
    "    \n",
    "    return x, y"
   ]
  },
  {
   "cell_type": "code",
   "execution_count": 16,
   "metadata": {},
   "outputs": [],
   "source": [
    "filenames = get_filenames(TRAIN_PATH)\n",
    "ds = tf.data.Dataset.from_tensor_slices(filenames)\n",
    "\n",
    "ds = ds.interleave(lambda filename: tf.data.Dataset.from_generator(\n",
    "        generator(),\n",
    "    (np.float32, np.float32),       \n",
    "    args=(TRAIN_PATH + filename,)))"
   ]
  },
  {
   "cell_type": "code",
   "execution_count": 17,
   "metadata": {},
   "outputs": [],
   "source": [
    "#split into train and validation sets\n",
    "\n",
    "# train_size = int(len(filenames)-1)\n",
    "# val_size = int(0.01 * len(filenames))\n",
    "\n",
    "# full_dataset = ds.shuffle(100, reshuffle_each_iteration=False)\n",
    "# train_dataset = ds.take(train_size)\n",
    "# val_dataset = ds.skip(train_size)"
   ]
  },
  {
   "cell_type": "markdown",
   "metadata": {
    "id": "To5C5q-kzg64"
   },
   "source": [
    "Deep Learning"
   ]
  },
  {
   "cell_type": "code",
   "execution_count": 18,
   "metadata": {
    "id": "GG9XrXoXxTPT"
   },
   "outputs": [],
   "source": [
    "import tensorflow\n",
    "from tensorflow.keras.models import Sequential  \n",
    "from tensorflow.keras.layers import ZeroPadding2D, Input, Conv2D, MaxPool2D, Dropout, Flatten, Dense, MaxPooling2D, Conv2DTranspose, concatenate, UpSampling2D, ZeroPadding2D\n",
    "from tensorflow.keras.optimizers import Adam\n",
    "from tensorflow.keras.models import load_model, Model\n",
    "from tensorflow.keras.callbacks import ModelCheckpoint\n",
    "from tensorflow.keras.callbacks import ReduceLROnPlateau\n",
    "\n",
    " \n",
    "\n",
    "def unet_model(IMG_HEIGHT, IMG_WIDTH, IMG_CHANNELS):\n",
    "#Build the model\n",
    "    KERNELS_INPUT = X_Seq    \n",
    "    KERNELS_OUT = Y_Seq\n",
    "\n",
    "    inputs = Input((IMG_HEIGHT, IMG_WIDTH, IMG_CHANNELS))\n",
    "    s = inputs\n",
    " \n",
    "\n",
    "     #Contraction path\n",
    "    c1 = Conv2D(KERNELS_INPUT, (3, 3), activation='relu', kernel_initializer='he_normal', padding='same')(s)\n",
    "    c1 = Dropout(0.1)(c1)\n",
    "    c1 = Conv2D(KERNELS_INPUT, (3, 3), activation='relu', kernel_initializer='he_normal', padding='same')(c1)\n",
    "    p1 = MaxPooling2D((2,2))(c1)\n",
    "    \n",
    "    c2 = Conv2D(KERNELS_INPUT*2, (3, 3), activation='relu', kernel_initializer='he_normal', padding='same')(p1)\n",
    "    c2 = Dropout(0.1)(c2)\n",
    "    c2 = Conv2D(KERNELS_INPUT*2, (3, 3), activation='relu', kernel_initializer='he_normal', padding='same')(c2)\n",
    "    p2 = MaxPooling2D((2,2))(c2)\n",
    "     \n",
    "    c3 = Conv2D(KERNELS_INPUT*4, (3, 3), activation='relu', kernel_initializer='he_normal', padding='same')(p2)\n",
    "    c3 = Dropout(0.2)(c3)\n",
    "    c3 = Conv2D(KERNELS_INPUT*4, (3, 3), activation='relu', kernel_initializer='he_normal', padding='same')(c3)\n",
    "    p3 = MaxPooling2D((2,2))(c3)\n",
    "     \n",
    "    c4 = Conv2D(KERNELS_INPUT*4, (3, 3), activation='relu', kernel_initializer='he_normal', padding='same')(p3)\n",
    "    c4 = Dropout(0.2)(c4)\n",
    "    c4 = Conv2D(KERNELS_INPUT*4, (3, 3), activation='relu', kernel_initializer='he_normal', padding='same')(c4)\n",
    "    p4 = MaxPooling2D(pool_size=(2,2))(c4)\n",
    "     \n",
    "    c5 = Conv2D(KERNELS_INPUT*8, (3, 3), activation='relu', kernel_initializer='he_normal', padding='same')(p4)\n",
    "    c5 = Dropout(0.3)(c5)\n",
    "    c5 = Conv2D(KERNELS_INPUT*8, (3, 3), activation='relu', kernel_initializer='he_normal', padding='same')(c5)\n",
    "    \n",
    "    #Expansive path \n",
    "    u6 = Conv2DTranspose(KERNELS_INPUT*8, (2, 2), strides=(2, 2), padding='same')(c5)\n",
    "    u6 = ZeroPadding2D(((1, 0), (1, 0)))(u6)\n",
    "    u6 = concatenate([u6, c4])\n",
    "    c6 = Conv2D(KERNELS_INPUT*8, (3, 3), activation='relu', kernel_initializer='he_normal', padding='same')(u6)\n",
    "    c6 = Dropout(0.2)(c6)\n",
    "    c6 = Conv2D(KERNELS_INPUT*8, (3, 3), activation='relu', kernel_initializer='he_normal', padding='same')(c6)\n",
    "     \n",
    "    u7 = Conv2DTranspose(KERNELS_INPUT*4, (2, 2), strides=(2, 2), padding='same')(c6)\n",
    "    #u7 = ZeroPadding2D(((1, 0), (1, 0)))(u7)\n",
    "    u7 = concatenate([u7, c3])\n",
    "    c7 = Conv2D(KERNELS_INPUT*4, (3, 3), activation='relu', kernel_initializer='he_normal', padding='same')(u7)\n",
    "    c7 = Dropout(0.2)(c7)\n",
    "    c7 = Conv2D(KERNELS_INPUT*4, (3, 3), activation='relu', kernel_initializer='he_normal', padding='same')(c7)\n",
    "     \n",
    "    u8 = Conv2DTranspose(KERNELS_INPUT*4, (2, 2), strides=(2, 2), padding='same')(c7)\n",
    "    \n",
    "    #u8 = ZeroPadding2D(((1, 0), (0, 0)))(u8)\n",
    "    u8 = concatenate([u8, c2])\n",
    "    c8 = Conv2D(KERNELS_INPUT*2, (3, 3), activation='relu', kernel_initializer='he_normal', padding='same')(u8)\n",
    "    c8 = Dropout(0.1)(c8)\n",
    "    c8 = Conv2D(KERNELS_INPUT*2, (3, 3), activation='relu', kernel_initializer='he_normal', padding='same')(c8)\n",
    "     \n",
    "    u9 = Conv2DTranspose(KERNELS_INPUT*2, (2, 2), strides=(2, 2), padding='same')(c8)\n",
    "    \n",
    "    #u9 = ZeroPadding2D(((1, 0), (0, 0)))(u9)\n",
    "    u9 = concatenate([u9, c1])\n",
    "    c9 = Conv2D(KERNELS_OUT, (3, 3), activation='relu', kernel_initializer='he_normal', padding='same')(u9)\n",
    "    c9 = Dropout(0.1)(c9)\n",
    "    c9 = Conv2D(KERNELS_OUT, (3, 3), activation='relu', kernel_initializer='he_normal', padding='same')(c9)\n",
    "     \n",
    "    outputs = Conv2D(KERNELS_OUT, (3, 3), activation='relu')(c9)\n",
    "     \n",
    "    model = Model(inputs=[inputs], outputs=[c9])\n",
    "    model.compile(loss='mse',\n",
    "                  optimizer = AdaBeliefOptimizer(learning_rate = 1e-2, \n",
    "                                                 print_change_log = False),\n",
    "                  metrics=[tf.keras.metrics.MeanSquaredError()])\n",
    "    model.summary()    \n",
    "    return model\n"
   ]
  },
  {
   "cell_type": "code",
   "execution_count": 19,
   "metadata": {
    "colab": {
     "base_uri": "https://localhost:8080/"
    },
    "id": "5y4oziw1zmhb",
    "outputId": "00851875-d4c8-4b31-95eb-abc5e2570871"
   },
   "outputs": [
    {
     "name": "stdout",
     "output_type": "stream",
     "text": [
      "Model: \"model_1\"\n",
      "__________________________________________________________________________________________________\n",
      "Layer (type)                    Output Shape         Param #     Connected to                     \n",
      "==================================================================================================\n",
      "input_2 (InputLayer)            [(None, 200, 200, 26 0                                            \n",
      "__________________________________________________________________________________________________\n",
      "conv2d_19 (Conv2D)              (None, 200, 200, 26) 6110        input_2[0][0]                    \n",
      "__________________________________________________________________________________________________\n",
      "dropout_9 (Dropout)             (None, 200, 200, 26) 0           conv2d_19[0][0]                  \n",
      "__________________________________________________________________________________________________\n",
      "conv2d_20 (Conv2D)              (None, 200, 200, 26) 6110        dropout_9[0][0]                  \n",
      "__________________________________________________________________________________________________\n",
      "max_pooling2d_4 (MaxPooling2D)  (None, 100, 100, 26) 0           conv2d_20[0][0]                  \n",
      "__________________________________________________________________________________________________\n",
      "conv2d_21 (Conv2D)              (None, 100, 100, 52) 12220       max_pooling2d_4[0][0]            \n",
      "__________________________________________________________________________________________________\n",
      "dropout_10 (Dropout)            (None, 100, 100, 52) 0           conv2d_21[0][0]                  \n",
      "__________________________________________________________________________________________________\n",
      "conv2d_22 (Conv2D)              (None, 100, 100, 52) 24388       dropout_10[0][0]                 \n",
      "__________________________________________________________________________________________________\n",
      "max_pooling2d_5 (MaxPooling2D)  (None, 50, 50, 52)   0           conv2d_22[0][0]                  \n",
      "__________________________________________________________________________________________________\n",
      "conv2d_23 (Conv2D)              (None, 50, 50, 104)  48776       max_pooling2d_5[0][0]            \n",
      "__________________________________________________________________________________________________\n",
      "dropout_11 (Dropout)            (None, 50, 50, 104)  0           conv2d_23[0][0]                  \n",
      "__________________________________________________________________________________________________\n",
      "conv2d_24 (Conv2D)              (None, 50, 50, 104)  97448       dropout_11[0][0]                 \n",
      "__________________________________________________________________________________________________\n",
      "max_pooling2d_6 (MaxPooling2D)  (None, 25, 25, 104)  0           conv2d_24[0][0]                  \n",
      "__________________________________________________________________________________________________\n",
      "conv2d_25 (Conv2D)              (None, 25, 25, 104)  97448       max_pooling2d_6[0][0]            \n",
      "__________________________________________________________________________________________________\n",
      "dropout_12 (Dropout)            (None, 25, 25, 104)  0           conv2d_25[0][0]                  \n",
      "__________________________________________________________________________________________________\n",
      "conv2d_26 (Conv2D)              (None, 25, 25, 104)  97448       dropout_12[0][0]                 \n",
      "__________________________________________________________________________________________________\n",
      "max_pooling2d_7 (MaxPooling2D)  (None, 12, 12, 104)  0           conv2d_26[0][0]                  \n",
      "__________________________________________________________________________________________________\n",
      "conv2d_27 (Conv2D)              (None, 12, 12, 208)  194896      max_pooling2d_7[0][0]            \n",
      "__________________________________________________________________________________________________\n",
      "dropout_13 (Dropout)            (None, 12, 12, 208)  0           conv2d_27[0][0]                  \n",
      "__________________________________________________________________________________________________\n",
      "conv2d_28 (Conv2D)              (None, 12, 12, 208)  389584      dropout_13[0][0]                 \n",
      "__________________________________________________________________________________________________\n",
      "conv2d_transpose_4 (Conv2DTrans (None, 24, 24, 208)  173264      conv2d_28[0][0]                  \n",
      "__________________________________________________________________________________________________\n",
      "zero_padding2d_1 (ZeroPadding2D (None, 25, 25, 208)  0           conv2d_transpose_4[0][0]         \n",
      "__________________________________________________________________________________________________\n",
      "concatenate_4 (Concatenate)     (None, 25, 25, 312)  0           zero_padding2d_1[0][0]           \n",
      "                                                                 conv2d_26[0][0]                  \n",
      "__________________________________________________________________________________________________\n",
      "conv2d_29 (Conv2D)              (None, 25, 25, 208)  584272      concatenate_4[0][0]              \n",
      "__________________________________________________________________________________________________\n",
      "dropout_14 (Dropout)            (None, 25, 25, 208)  0           conv2d_29[0][0]                  \n",
      "__________________________________________________________________________________________________\n",
      "conv2d_30 (Conv2D)              (None, 25, 25, 208)  389584      dropout_14[0][0]                 \n",
      "__________________________________________________________________________________________________\n",
      "conv2d_transpose_5 (Conv2DTrans (None, 50, 50, 104)  86632       conv2d_30[0][0]                  \n",
      "__________________________________________________________________________________________________\n",
      "concatenate_5 (Concatenate)     (None, 50, 50, 208)  0           conv2d_transpose_5[0][0]         \n",
      "                                                                 conv2d_24[0][0]                  \n",
      "__________________________________________________________________________________________________\n",
      "conv2d_31 (Conv2D)              (None, 50, 50, 104)  194792      concatenate_5[0][0]              \n",
      "__________________________________________________________________________________________________\n",
      "dropout_15 (Dropout)            (None, 50, 50, 104)  0           conv2d_31[0][0]                  \n",
      "__________________________________________________________________________________________________\n",
      "conv2d_32 (Conv2D)              (None, 50, 50, 104)  97448       dropout_15[0][0]                 \n",
      "__________________________________________________________________________________________________\n",
      "conv2d_transpose_6 (Conv2DTrans (None, 100, 100, 104 43368       conv2d_32[0][0]                  \n",
      "__________________________________________________________________________________________________\n",
      "concatenate_6 (Concatenate)     (None, 100, 100, 156 0           conv2d_transpose_6[0][0]         \n",
      "                                                                 conv2d_22[0][0]                  \n",
      "__________________________________________________________________________________________________\n",
      "conv2d_33 (Conv2D)              (None, 100, 100, 52) 73060       concatenate_6[0][0]              \n",
      "__________________________________________________________________________________________________\n",
      "dropout_16 (Dropout)            (None, 100, 100, 52) 0           conv2d_33[0][0]                  \n",
      "__________________________________________________________________________________________________\n",
      "conv2d_34 (Conv2D)              (None, 100, 100, 52) 24388       dropout_16[0][0]                 \n",
      "__________________________________________________________________________________________________\n",
      "conv2d_transpose_7 (Conv2DTrans (None, 200, 200, 52) 10868       conv2d_34[0][0]                  \n",
      "__________________________________________________________________________________________________\n",
      "concatenate_7 (Concatenate)     (None, 200, 200, 78) 0           conv2d_transpose_7[0][0]         \n",
      "                                                                 conv2d_20[0][0]                  \n",
      "__________________________________________________________________________________________________\n",
      "conv2d_35 (Conv2D)              (None, 200, 200, 6)  4218        concatenate_7[0][0]              \n",
      "__________________________________________________________________________________________________\n",
      "dropout_17 (Dropout)            (None, 200, 200, 6)  0           conv2d_35[0][0]                  \n",
      "__________________________________________________________________________________________________\n",
      "conv2d_36 (Conv2D)              (None, 200, 200, 6)  330         dropout_17[0][0]                 \n",
      "==================================================================================================\n",
      "Total params: 2,656,652\n",
      "Trainable params: 2,656,652\n",
      "Non-trainable params: 0\n",
      "__________________________________________________________________________________________________\n"
     ]
    }
   ],
   "source": [
    "if SCALE:\n",
    "    model = unet_model(IMAGE_HEIGHT_SCALED, IMAGE_WIDTH_SCALED, 26)\n",
    "else:\n",
    "    model = unet_model(IMAGE_HEIGHT, IMAGE_WIDTH, 104)"
   ]
  },
  {
   "cell_type": "code",
   "execution_count": 20,
   "metadata": {
    "id": "mSm_DFI1K1m9"
   },
   "outputs": [],
   "source": [
    "reduce_lr = ReduceLROnPlateau(monitor='mean_squared_error', verbose=1, patience=2, min_lr=0.00001)\n",
    "model_checkpoint = ModelCheckpoint(\n",
    "    filepath=MODEL_SAVE_PATH,\n",
    "    save_weights_only=True,\n",
    "    save_best_only=True)\n",
    "es = tf.keras.callbacks.EarlyStopping(monitor='mean_squared_error', patience=3)\n"
   ]
  },
  {
   "cell_type": "code",
   "execution_count": null,
   "metadata": {
    "colab": {
     "base_uri": "https://localhost:8080/"
    },
    "id": "GLrut7wl48AD",
    "outputId": "2e012896-1ea4-4004-f317-b69296cdadd8"
   },
   "outputs": [
    {
     "name": "stdout",
     "output_type": "stream",
     "text": [
      "Epoch 1/20\n",
      "100/100 [==============================] - 1228s 12s/step - loss: 0.0011 - mean_squared_error: 0.0011\n",
      "Epoch 2/20\n",
      " 60/100 [=================>............] - ETA: 8:03 - loss: 7.7520e-04 - mean_squared_error: 7.7520e-04"
     ]
    }
   ],
   "source": [
    "steps = np.int(np.ceil(len(filenames)/BATCH_SIZE))\n",
    "\n",
    "model.fit(ds, epochs = 20, batch_size = BATCH_SIZE, steps_per_epoch = 100, callbacks = [reduce_lr,  es])\n",
    "\n"
   ]
  },
  {
   "cell_type": "code",
   "execution_count": null,
   "metadata": {
    "id": "GXJDBogGsgvy"
   },
   "outputs": [],
   "source": []
  },
  {
   "cell_type": "code",
   "execution_count": null,
   "metadata": {
    "colab": {
     "base_uri": "https://localhost:8080/",
     "height": 286
    },
    "id": "ODxxAFmlq8Qx",
    "outputId": "f9bf33ae-b52c-4b94-ec36-5ae31907a27a"
   },
   "outputs": [],
   "source": []
  }
 ],
 "metadata": {
  "accelerator": "GPU",
  "colab": {
   "collapsed_sections": [],
   "name": "Untitled3.ipynb",
   "provenance": []
  },
  "kernelspec": {
   "display_name": "Python 3",
   "language": "python",
   "name": "python3"
  },
  "language_info": {
   "codemirror_mode": {
    "name": "ipython",
    "version": 3
   },
   "file_extension": ".py",
   "mimetype": "text/x-python",
   "name": "python",
   "nbconvert_exporter": "python",
   "pygments_lexer": "ipython3",
   "version": "3.9.5"
  }
 },
 "nbformat": 4,
 "nbformat_minor": 1
}
